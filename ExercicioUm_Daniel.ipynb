{
 "cells": [
  {
   "cell_type": "markdown",
   "metadata": {},
   "source": [
    "Aluno: Daniel dos Santos Silva, Turma: A.\n",
    "Lista é um conjunto de dados ordenado.\n",
    "Dicionário é um conjunto de dados do tipo par não ordenado, chave:valor.\n",
    "Array numpy é uma tabela multidimensional homogenia, onde sua indexação é uma tupla positiva.\n",
    "Series pandas é uma junção de um vetor rótulos (index) e um vetor de dados (onde esse vetor pode também ser um dicionário)."
   ]
  },
  {
   "cell_type": "code",
   "execution_count": 36,
   "metadata": {},
   "outputs": [],
   "source": [
    "import pandas as pd\n",
    "import numpy as np\n",
    "\n",
    "ser = pd.Series(np.random.randint(1,10,35))"
   ]
  },
  {
   "cell_type": "code",
   "execution_count": 37,
   "metadata": {},
   "outputs": [
    {
     "name": "stdout",
     "output_type": "stream",
     "text": [
      "   0  1  2  3  4\n",
      "0  5  5  2  7  2\n",
      "1  5  8  2  6  6\n",
      "2  1  9  2  7  2\n",
      "3  8  3  6  6  9\n",
      "4  4  4  7  3  3\n",
      "5  9  2  3  5  8\n",
      "6  1  6  7  5  4\n"
     ]
    }
   ],
   "source": [
    "#Questão 2\n",
    "da = pd.DataFrame(np.reshape(ser.values, (7,5)))\n",
    "print(da)"
   ]
  },
  {
   "cell_type": "code",
   "execution_count": 38,
   "metadata": {},
   "outputs": [
    {
     "name": "stdout",
     "output_type": "stream",
     "text": [
      "      crim  medv\n",
      "0  0.00632  24.0\n",
      "1  0.02731  21.6\n",
      "2  0.02729  34.7\n",
      "3  0.03237  33.4\n",
      "4  0.06905  36.2\n"
     ]
    }
   ],
   "source": [
    "#Questão 3\n",
    "df = pd.read_csv(\"https://raw.githubusercontent.com/selva86/datasets/master/BostonHousing.csv\", usecols=['crim','medv'])\n",
    "print(df.head(5))"
   ]
  },
  {
   "cell_type": "code",
   "execution_count": 39,
   "metadata": {},
   "outputs": [],
   "source": [
    "#Questão 4\n",
    "df2 = pd.read_csv('https://raw.githubusercontent.com/selva86/datasets/master/Cars93_miss.csv')\n",
    "df2.rename(columns={'Type':'CarType'}, inplace=True)\n",
    "df2.rename(columns=lambda df2: df2.replace(\".\", \"_\"), inplace=True)"
   ]
  },
  {
   "cell_type": "code",
   "execution_count": 40,
   "metadata": {},
   "outputs": [
    {
     "name": "stdout",
     "output_type": "stream",
     "text": [
      "    Manufacturer  Model  CarType  Min_Price  Price  Max_Price  MPG_city  \\\n",
      "0          False  False    False      False  False      False     False   \n",
      "1           True  False    False      False  False      False     False   \n",
      "2          False  False    False      False  False      False     False   \n",
      "3          False  False    False       True  False      False     False   \n",
      "4          False  False    False       True  False       True     False   \n",
      "..           ...    ...      ...        ...    ...        ...       ...   \n",
      "88         False  False    False      False  False      False     False   \n",
      "89         False  False    False      False  False      False     False   \n",
      "90         False  False    False      False  False      False     False   \n",
      "91         False  False    False      False  False      False     False   \n",
      "92          True  False    False      False  False      False     False   \n",
      "\n",
      "    MPG_highway  AirBags  DriveTrain  ...  Passengers  Length  Wheelbase  \\\n",
      "0         False    False       False  ...       False   False      False   \n",
      "1         False    False       False  ...       False   False      False   \n",
      "2         False    False       False  ...       False   False      False   \n",
      "3         False    False        True  ...       False   False      False   \n",
      "4         False     True       False  ...       False   False      False   \n",
      "..          ...      ...         ...  ...         ...     ...        ...   \n",
      "88        False    False       False  ...       False   False      False   \n",
      "89        False    False       False  ...       False   False      False   \n",
      "90        False    False       False  ...       False   False      False   \n",
      "91        False    False       False  ...       False   False      False   \n",
      "92        False    False       False  ...       False   False      False   \n",
      "\n",
      "    Width  Turn_circle  Rear_seat_room  Luggage_room  Weight  Origin   Make  \n",
      "0   False        False           False          True   False   False  False  \n",
      "1   False        False           False         False   False   False  False  \n",
      "2   False        False           False         False   False   False  False  \n",
      "3    True        False           False         False   False   False  False  \n",
      "4   False        False           False         False   False   False  False  \n",
      "..    ...          ...             ...           ...     ...     ...    ...  \n",
      "88  False        False           False          True   False    True  False  \n",
      "89  False        False           False         False   False   False  False  \n",
      "90  False        False           False         False   False   False  False  \n",
      "91  False        False           False         False   False   False  False  \n",
      "92  False        False           False         False   False   False  False  \n",
      "\n",
      "[93 rows x 27 columns]\n"
     ]
    }
   ],
   "source": [
    "#Questão 5\n",
    "print(df2.isnull())"
   ]
  },
  {
   "cell_type": "code",
   "execution_count": 42,
   "metadata": {},
   "outputs": [
    {
     "name": "stdout",
     "output_type": "stream",
     "text": [
      "Manufacturer           4\n",
      "Model                  1\n",
      "CarType                3\n",
      "Min_Price              7\n",
      "Price                  2\n",
      "Max_Price              5\n",
      "MPG_city               9\n",
      "MPG_highway            2\n",
      "AirBags                6\n",
      "DriveTrain             7\n",
      "Cylinders              5\n",
      "EngineSize             2\n",
      "Horsepower             7\n",
      "RPM                    3\n",
      "Rev_per_mile           6\n",
      "Man_trans_avail        5\n",
      "Fuel_tank_capacity     8\n",
      "Passengers             2\n",
      "Length                 4\n",
      "Wheelbase              1\n",
      "Width                  6\n",
      "Turn_circle            5\n",
      "Rear_seat_room         4\n",
      "Luggage_room          19\n",
      "Weight                 7\n",
      "Origin                 5\n",
      "Make                   3\n",
      "dtype: int64\n"
     ]
    }
   ],
   "source": [
    "#Questão 6\n",
    "print(df2.isnull().sum())"
   ]
  },
  {
   "cell_type": "code",
   "execution_count": 43,
   "metadata": {},
   "outputs": [
    {
     "name": "stdout",
     "output_type": "stream",
     "text": [
      "    a\n",
      "0   0\n",
      "1   5\n",
      "2  10\n",
      "3  15\n"
     ]
    }
   ],
   "source": [
    "#Questão 7\n",
    "df = pd.DataFrame(np.arange(20).reshape(-1,5), columns=list('abcde'))\n",
    "print(df['a'].to_frame())"
   ]
  },
  {
   "cell_type": "code",
   "execution_count": 44,
   "metadata": {},
   "outputs": [],
   "source": [
    "#Questão 8.A\n",
    "df = pd.DataFrame(np.arange(20).reshape(-1, 5), columns=list('abcde'))\n",
    "\n",
    "df = df[['c','b','a','d','e']]"
   ]
  },
  {
   "cell_type": "code",
   "execution_count": 45,
   "metadata": {},
   "outputs": [
    {
     "data": {
      "text/html": [
       "<div>\n",
       "<style scoped>\n",
       "    .dataframe tbody tr th:only-of-type {\n",
       "        vertical-align: middle;\n",
       "    }\n",
       "\n",
       "    .dataframe tbody tr th {\n",
       "        vertical-align: top;\n",
       "    }\n",
       "\n",
       "    .dataframe thead th {\n",
       "        text-align: right;\n",
       "    }\n",
       "</style>\n",
       "<table border=\"1\" class=\"dataframe\">\n",
       "  <thead>\n",
       "    <tr style=\"text-align: right;\">\n",
       "      <th></th>\n",
       "      <th>e</th>\n",
       "      <th>d</th>\n",
       "      <th>c</th>\n",
       "      <th>b</th>\n",
       "      <th>a</th>\n",
       "    </tr>\n",
       "  </thead>\n",
       "  <tbody>\n",
       "    <tr>\n",
       "      <th>0</th>\n",
       "      <td>1</td>\n",
       "      <td>3</td>\n",
       "      <td>2</td>\n",
       "      <td>4</td>\n",
       "      <td>0</td>\n",
       "    </tr>\n",
       "    <tr>\n",
       "      <th>1</th>\n",
       "      <td>6</td>\n",
       "      <td>8</td>\n",
       "      <td>7</td>\n",
       "      <td>9</td>\n",
       "      <td>5</td>\n",
       "    </tr>\n",
       "    <tr>\n",
       "      <th>2</th>\n",
       "      <td>11</td>\n",
       "      <td>13</td>\n",
       "      <td>12</td>\n",
       "      <td>14</td>\n",
       "      <td>10</td>\n",
       "    </tr>\n",
       "    <tr>\n",
       "      <th>3</th>\n",
       "      <td>16</td>\n",
       "      <td>18</td>\n",
       "      <td>17</td>\n",
       "      <td>19</td>\n",
       "      <td>15</td>\n",
       "    </tr>\n",
       "  </tbody>\n",
       "</table>\n",
       "</div>"
      ],
      "text/plain": [
       "    e   d   c   b   a\n",
       "0   1   3   2   4   0\n",
       "1   6   8   7   9   5\n",
       "2  11  13  12  14  10\n",
       "3  16  18  17  19  15"
      ]
     },
     "execution_count": 45,
     "metadata": {},
     "output_type": "execute_result"
    }
   ],
   "source": [
    "#Questão 8.B e C\n",
    "def trocaDeColunas(colunaUm, colunaDois, df):\n",
    "    indexes = df.columns.values\n",
    "    indexColunaUm = 0\n",
    "    indexColunaDois = 0\n",
    "    \n",
    "    for i in range (0,len(indexes)):\n",
    "        if (indexes[i] == colunaUm): indexColunaUm = i\n",
    "        elif (indexes[i] == colunaDois): indexColunaDois = i\n",
    "    \n",
    "    [indexes[indexColunaUm], indexes[indexColunaDois]] = [indexes[indexColunaDois], indexes[indexColunaUm]]\n",
    "    indexes = sorted(indexes,reverse=True)\n",
    "    df = df[indexes]\n",
    "    return df\n",
    "trocaDeColunas('e','b',df)"
   ]
  },
  {
   "cell_type": "code",
   "execution_count": 46,
   "metadata": {},
   "outputs": [
    {
     "name": "stdout",
     "output_type": "stream",
     "text": [
      "   Manufacturer    Model     Type  Min.Price  Price  ...  Rear.seat.room  \\\n",
      "0         Acura  Integra    Small       12.9   15.9  ...            26.5   \n",
      "1           NaN   Legend  Midsize       29.2   33.9  ...            30.0   \n",
      "2          Audi       90  Compact       25.9   29.1  ...            28.0   \n",
      "3          Audi      100  Midsize        NaN   37.7  ...            31.0   \n",
      "4           BMW     535i  Midsize        NaN   30.0  ...            27.0   \n",
      "..          ...      ...      ...        ...    ...  ...             ...   \n",
      "88   Volkswagen  Eurovan      Van       16.6   19.7  ...            34.0   \n",
      "89   Volkswagen   Passat  Compact       17.6   20.0  ...            31.5   \n",
      "90   Volkswagen  Corrado   Sporty       22.9   23.3  ...            26.0   \n",
      "91        Volvo      240  Compact       21.8   22.7  ...            29.5   \n",
      "92          NaN      850  Midsize       24.8   26.7  ...            30.0   \n",
      "\n",
      "    Luggage.room  Weight   Origin                Make  \n",
      "0            NaN  2705.0  non-USA       Acura Integra  \n",
      "1           15.0  3560.0  non-USA        Acura Legend  \n",
      "2           14.0  3375.0  non-USA             Audi 90  \n",
      "3           17.0  3405.0  non-USA            Audi 100  \n",
      "4           13.0  3640.0  non-USA            BMW 535i  \n",
      "..           ...     ...      ...                 ...  \n",
      "88           NaN  3960.0      NaN  Volkswagen Eurovan  \n",
      "89          14.0  2985.0  non-USA   Volkswagen Passat  \n",
      "90          15.0  2810.0  non-USA  Volkswagen Corrado  \n",
      "91          14.0  2985.0  non-USA           Volvo 240  \n",
      "92          15.0  3245.0  non-USA           Volvo 850  \n",
      "\n",
      "[93 rows x 27 columns]\n"
     ]
    }
   ],
   "source": [
    "#Questão 9\n",
    "df = pd.read_csv('https://raw.githubusercontent.com/selva86/datasets/master/Cars93_miss.csv')\n",
    "\n",
    "pd.set_option(\"display.max_row\", 10)\n",
    "pd.set_option(\"display.max_columns\", 10)\n",
    "\n",
    "print(df)"
   ]
  },
  {
   "cell_type": "code",
   "execution_count": 48,
   "metadata": {},
   "outputs": [],
   "source": [
    "pd.reset_option(\"display.max_row\")\n",
    "pd.reset_option(\"display.max_columns\")"
   ]
  },
  {
   "cell_type": "code",
   "execution_count": 49,
   "metadata": {},
   "outputs": [
    {
     "name": "stdout",
     "output_type": "stream",
     "text": [
      "   Manufacturer       Model     Type\n",
      "0         Acura     Integra    Small\n",
      "1           NaN      Legend  Midsize\n",
      "2          Audi          90  Compact\n",
      "3          Audi         100  Midsize\n",
      "4           BMW        535i  Midsize\n",
      "5         Buick     Century  Midsize\n",
      "6         Buick     LeSabre    Large\n",
      "7         Buick  Roadmaster    Large\n",
      "8         Buick     Riviera  Midsize\n",
      "9      Cadillac     DeVille    Large\n",
      "10     Cadillac     Seville  Midsize\n",
      "11    Chevrolet    Cavalier  Compact\n",
      "12    Chevrolet     Corsica  Compact\n",
      "13    Chevrolet      Camaro   Sporty\n",
      "14    Chevrolet      Lumina  Midsize\n",
      "15    Chevrolet  Lumina_APV      Van\n",
      "16    Chevrolet       Astro      Van\n",
      "17    Chevrolet     Caprice    Large\n",
      "18    Chevrolet    Corvette   Sporty\n",
      "19          NaN    Concorde    Large\n"
     ]
    }
   ],
   "source": [
    "#Questão 10\n",
    "print(df[['Manufacturer', 'Model','Type']].head(20))"
   ]
  },
  {
   "cell_type": "code",
   "execution_count": 50,
   "metadata": {},
   "outputs": [
    {
     "name": "stdout",
     "output_type": "stream",
     "text": [
      "0    29\n",
      "1    38\n",
      "2    10\n",
      "3    13\n",
      "Name: 14, dtype: int32\n",
      "0    29\n",
      "1    38\n",
      "2    10\n",
      "3    13\n",
      "Name: 14, dtype: int32\n"
     ]
    }
   ],
   "source": [
    "#Questão 11\n",
    "df = pd.DataFrame(np.random.randint(10, 40, 60).reshape(-1, 4))\n",
    "quantidadeDeLinhasPrintadas = 0\n",
    "\n",
    "for i in range(1, len(df)):\n",
    "    if (df.iloc[-i].values.sum() > 100 and quantidadeDeLinhasPrintadas <= 1):\n",
    "        quantidadeDeLinhasPrintadas += 1\n",
    "        print(df.iloc[-1])"
   ]
  },
  {
   "cell_type": "code",
   "execution_count": 52,
   "metadata": {},
   "outputs": [],
   "source": [
    "#Questão 12\n",
    "df = pd.DataFrame(np.arange(25).reshape(5, -1))\n",
    "\n",
    "aux = pd.DataFrame(df.loc[0])\n",
    "\n",
    "df.loc[0] = df.loc[1]\n",
    "df.loc[1] = aux[0]\n",
    "\n",
    "df.index = [1,0,2,3,4]"
   ]
  },
  {
   "cell_type": "code",
   "execution_count": null,
   "metadata": {},
   "outputs": [],
   "source": []
  }
 ],
 "metadata": {
  "kernelspec": {
   "display_name": "Python 3",
   "language": "python",
   "name": "python3"
  },
  "language_info": {
   "codemirror_mode": {
    "name": "ipython",
    "version": 3
   },
   "file_extension": ".py",
   "mimetype": "text/x-python",
   "name": "python",
   "nbconvert_exporter": "python",
   "pygments_lexer": "ipython3",
   "version": "3.8.5"
  }
 },
 "nbformat": 4,
 "nbformat_minor": 4
}
